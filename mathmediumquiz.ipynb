{
  "nbformat": 4,
  "nbformat_minor": 0,
  "metadata": {
    "colab": {
      "provenance": [],
      "authorship_tag": "ABX9TyNfFwXrLG7sHBN57k7vNHy6",
      "include_colab_link": true
    },
    "kernelspec": {
      "name": "python3",
      "display_name": "Python 3"
    },
    "language_info": {
      "name": "python"
    }
  },
  "cells": [
    {
      "cell_type": "markdown",
      "metadata": {
        "id": "view-in-github",
        "colab_type": "text"
      },
      "source": [
        "<a href=\"https://colab.research.google.com/github/raunakyadav92/mathmediumquiz/blob/main/mathmediumquiz.ipynb\" target=\"_parent\"><img src=\"https://colab.research.google.com/assets/colab-badge.svg\" alt=\"Open In Colab\"/></a>"
      ]
    },
    {
      "cell_type": "code",
      "execution_count": null,
      "metadata": {
        "id": "oNl8YXOLJUfz"
      },
      "outputs": [],
      "source": [
        "import random\n",
        "import time\n",
        "\n",
        "score = 0\n",
        "total_questions = 5\n",
        "time_limit = 7  # seconds\n",
        "\n",
        "operations = ['+', '-', '*', '/']\n",
        "\n",
        "print(\"\\n🔢 Welcome to Medium Level Math Quiz! 🔢\")\n",
        "print(f\"You have {time_limit} seconds for each question.\\n\")\n",
        "\n",
        "for i in range(total_questions):\n",
        "    num1 = random.randint(10, 50)\n",
        "    num2 = random.randint(1, 10)\n",
        "    op = random.choice(operations)\n",
        "\n",
        "    # Ensure division gives integer answer\n",
        "    if op == '/':\n",
        "        num1 = num2 * random.randint(2, 10)\n",
        "\n",
        "    question = f\"{num1} {op} {num2}\"\n",
        "    correct_answer = eval(question)\n",
        "\n",
        "    print(f\"Q{i+1}: {question} = ?\")\n",
        "    start_time = time.time()\n",
        "\n",
        "    try:\n",
        "        user_answer = float(input(\"Your Answer: \"))\n",
        "    except:\n",
        "        user_answer = None\n",
        "\n",
        "    end_time = time.time()\n",
        "\n",
        "    if end_time - start_time > time_limit:\n",
        "        print(\"⏰ Time's up!\")\n",
        "    elif abs(user_answer - correct_answer) < 0.01:\n",
        "        print(\"✅ Correct!\\n\")\n",
        "        score += 1\n",
        "    else:\n",
        "        print(f\"❌ Wrong! Correct Answer was {correct_answer}\\n\")\n",
        "\n",
        "print(f\"🎯 Your Final Score: {score}/{total_questions}\")\n"
      ]
    }
  ]
}